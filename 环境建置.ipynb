{
  "nbformat": 4,
  "nbformat_minor": 0,
  "metadata": {
    "colab": {
      "provenance": [],
      "gpuType": "T4",
      "toc_visible": true,
      "authorship_tag": "ABX9TyOnkkOVm0eFMDfNyYpHplD5",
      "include_colab_link": true
    },
    "kernelspec": {
      "name": "python3",
      "display_name": "Python 3"
    },
    "language_info": {
      "name": "python"
    },
    "accelerator": "GPU"
  },
  "cells": [
    {
      "cell_type": "markdown",
      "metadata": {
        "id": "view-in-github",
        "colab_type": "text"
      },
      "source": [
        "<a href=\"https://colab.research.google.com/github/Klu77/project-1-for-Git-tools/blob/main/%E7%8E%AF%E5%A2%83%E5%BB%BA%E7%BD%AE.ipynb\" target=\"_parent\"><img src=\"https://colab.research.google.com/assets/colab-badge.svg\" alt=\"Open In Colab\"/></a>"
      ]
    },
    {
      "cell_type": "code",
      "source": [
        "import pandas as pd\n",
        "\n",
        "url = \"https://raw.githubusercontent.com/GrandmaCan/ML/main/Resgression/Salary_Data.csv\"\n",
        "data = pd.read_csv(url)\n",
        "data\n",
        "# y = w*x + b\n",
        "x = data['YearsExperience']\n",
        "y = data['Salary']\n",
        "y"
      ],
      "metadata": {
        "id": "PKrs5pNNcGAN"
      },
      "execution_count": null,
      "outputs": []
    },
    {
      "cell_type": "markdown",
      "source": [
        "以上来自视频：https://www.youtube.com/watch?v=wm9yR1VspPs 【机器学习 Machine Learning】3小时初学者教程 | 机器学习教程 | 机器学习入门 | #机器学习 #ML #深度学习"
      ],
      "metadata": {
        "id": "mqiUfqPQh-xR"
      }
    },
    {
      "cell_type": "code",
      "source": [
        "!pip install wget # 安装套件用！pip 这里要安装中文字体显示\n",
        "import wget\n",
        "\n",
        "wget.download(\"https://github.com/GrandmaCan/ML/raw/main/Resgression/ChineseFont.ttf\")"
      ],
      "metadata": {
        "id": "llkq56YgfKxG"
      },
      "execution_count": null,
      "outputs": []
    },
    {
      "cell_type": "code",
      "source": [
        "import matplotlib.pyplot as plt # matploblib 在colab中是事先安装好的\n",
        "import matplotlib as mlp\n",
        "import warnings\n",
        "warnings.filterwarnings(\"ignore\") # 屏蔽警告 不起作用\n",
        "\n",
        "from matplotlib.font_manager import fontManager\n",
        "#fontManager.addfont = ('ChineseFont.ttf')\n",
        "#mlp.rc('font', family='ChineseFont')\n",
        "\n",
        "\"\"\"\n",
        "# 指定字体文件的路径\n",
        "font_path = '/content/ChineseFont.ttf'  # 将路径替换为你的字体文件路径\n",
        "\n",
        "# 加载字体\n",
        "plt.rcParams['font.family'] = 'sans-serif'\n",
        "plt.rcParams['font.sans-serif'] = ['SimHei']  # 指定宋体或者其他支持中文的字体名称\n",
        "\"\"\"\n",
        "\n",
        "# 或者直接指定字体文件\n",
        "#plt.rcParams['font.sans-serif'] = ['/content/ChineseFont.ttf']\n",
        "\n",
        "#chat's answer still dosen't work\n",
        "\n",
        "#加载中文字体失败\n",
        "\n",
        "plt.scatter(x,y)\n",
        "plt.title(\"salary-- years of experience\")\n",
        "plt.xlabel(\"Experience(years)\")\n",
        "plt.ylabel(\"Salary(K)\")\n",
        "plt.show()\n",
        "\n",
        "#import matplotlib\n",
        "#matplotlib.font_manager._rebuild()"
      ],
      "metadata": {
        "id": "959YrmmNJo3R"
      },
      "execution_count": null,
      "outputs": []
    },
    {
      "cell_type": "code",
      "source": [
        "w=0\n",
        "b=0\n",
        "y_pred = x*w + b\n",
        "plt.plot(x, y_pred, color = \"blue\", label = \"prediction\")\n",
        "#plt.scatter(x, y, marker =\"x\", color = \"green\", label = \"true value\")\n",
        "#个人不喜欢 x 和红色\n",
        "plt.scatter(x, y, color = \"orange\", label = \"true value\")\n",
        "\n",
        "plt.title(\"salary-- years of experience\")\n",
        "plt.xlabel(\"Experience(years)\")\n",
        "plt.ylabel(\"Salary(K)\")\n",
        "plt.legend()# 注意这里的括号别忘了，否则图例显示不出来\n",
        "plt.show()"
      ],
      "metadata": {
        "colab": {
          "base_uri": "https://localhost:8080/",
          "height": 1000
        },
        "id": "7LK2P-fmYYfS",
        "outputId": "0bb12a7d-893d-4215-f2e2-dd179a5ef439"
      },
      "execution_count": 45,
      "outputs": [
        {
          "output_type": "stream",
          "name": "stderr",
          "text": [
            "WARNING:matplotlib.font_manager:findfont: Font family 'ChineseFont' not found.\n",
            "WARNING:matplotlib.font_manager:findfont: Font family 'ChineseFont' not found.\n",
            "WARNING:matplotlib.font_manager:findfont: Font family 'ChineseFont' not found.\n",
            "WARNING:matplotlib.font_manager:findfont: Font family 'ChineseFont' not found.\n",
            "WARNING:matplotlib.font_manager:findfont: Font family 'ChineseFont' not found.\n",
            "WARNING:matplotlib.font_manager:findfont: Font family 'ChineseFont' not found.\n",
            "WARNING:matplotlib.font_manager:findfont: Font family 'ChineseFont' not found.\n",
            "WARNING:matplotlib.font_manager:findfont: Font family 'ChineseFont' not found.\n",
            "WARNING:matplotlib.font_manager:findfont: Font family 'ChineseFont' not found.\n",
            "WARNING:matplotlib.font_manager:findfont: Font family 'ChineseFont' not found.\n",
            "WARNING:matplotlib.font_manager:findfont: Font family 'ChineseFont' not found.\n",
            "WARNING:matplotlib.font_manager:findfont: Font family 'ChineseFont' not found.\n",
            "WARNING:matplotlib.font_manager:findfont: Font family 'ChineseFont' not found.\n",
            "WARNING:matplotlib.font_manager:findfont: Font family 'ChineseFont' not found.\n",
            "WARNING:matplotlib.font_manager:findfont: Font family 'ChineseFont' not found.\n",
            "WARNING:matplotlib.font_manager:findfont: Font family 'ChineseFont' not found.\n",
            "WARNING:matplotlib.font_manager:findfont: Font family 'ChineseFont' not found.\n",
            "WARNING:matplotlib.font_manager:findfont: Font family 'ChineseFont' not found.\n",
            "WARNING:matplotlib.font_manager:findfont: Font family 'ChineseFont' not found.\n",
            "WARNING:matplotlib.font_manager:findfont: Font family 'ChineseFont' not found.\n",
            "WARNING:matplotlib.font_manager:findfont: Font family 'ChineseFont' not found.\n",
            "WARNING:matplotlib.font_manager:findfont: Font family 'ChineseFont' not found.\n",
            "WARNING:matplotlib.font_manager:findfont: Font family 'ChineseFont' not found.\n",
            "WARNING:matplotlib.font_manager:findfont: Font family 'ChineseFont' not found.\n",
            "WARNING:matplotlib.font_manager:findfont: Font family 'ChineseFont' not found.\n",
            "WARNING:matplotlib.font_manager:findfont: Font family 'ChineseFont' not found.\n",
            "WARNING:matplotlib.font_manager:findfont: Font family 'ChineseFont' not found.\n",
            "WARNING:matplotlib.font_manager:findfont: Font family 'ChineseFont' not found.\n",
            "WARNING:matplotlib.font_manager:findfont: Font family 'ChineseFont' not found.\n",
            "WARNING:matplotlib.font_manager:findfont: Font family 'ChineseFont' not found.\n",
            "WARNING:matplotlib.font_manager:findfont: Font family 'ChineseFont' not found.\n",
            "WARNING:matplotlib.font_manager:findfont: Font family 'ChineseFont' not found.\n",
            "WARNING:matplotlib.font_manager:findfont: Font family 'ChineseFont' not found.\n",
            "WARNING:matplotlib.font_manager:findfont: Font family 'ChineseFont' not found.\n",
            "WARNING:matplotlib.font_manager:findfont: Font family 'ChineseFont' not found.\n",
            "WARNING:matplotlib.font_manager:findfont: Font family 'ChineseFont' not found.\n",
            "WARNING:matplotlib.font_manager:findfont: Font family 'ChineseFont' not found.\n",
            "WARNING:matplotlib.font_manager:findfont: Font family 'ChineseFont' not found.\n",
            "WARNING:matplotlib.font_manager:findfont: Font family 'ChineseFont' not found.\n",
            "WARNING:matplotlib.font_manager:findfont: Font family 'ChineseFont' not found.\n",
            "WARNING:matplotlib.font_manager:findfont: Font family 'ChineseFont' not found.\n",
            "WARNING:matplotlib.font_manager:findfont: Font family 'ChineseFont' not found.\n",
            "WARNING:matplotlib.font_manager:findfont: Font family 'ChineseFont' not found.\n",
            "WARNING:matplotlib.font_manager:findfont: Font family 'ChineseFont' not found.\n",
            "WARNING:matplotlib.font_manager:findfont: Font family 'ChineseFont' not found.\n",
            "WARNING:matplotlib.font_manager:findfont: Font family 'ChineseFont' not found.\n",
            "WARNING:matplotlib.font_manager:findfont: Font family 'ChineseFont' not found.\n",
            "WARNING:matplotlib.font_manager:findfont: Font family 'ChineseFont' not found.\n",
            "WARNING:matplotlib.font_manager:findfont: Font family 'ChineseFont' not found.\n",
            "WARNING:matplotlib.font_manager:findfont: Font family 'ChineseFont' not found.\n",
            "WARNING:matplotlib.font_manager:findfont: Font family 'ChineseFont' not found.\n",
            "WARNING:matplotlib.font_manager:findfont: Font family 'ChineseFont' not found.\n",
            "WARNING:matplotlib.font_manager:findfont: Font family 'ChineseFont' not found.\n",
            "WARNING:matplotlib.font_manager:findfont: Font family 'ChineseFont' not found.\n",
            "WARNING:matplotlib.font_manager:findfont: Font family 'ChineseFont' not found.\n",
            "WARNING:matplotlib.font_manager:findfont: Font family 'ChineseFont' not found.\n",
            "WARNING:matplotlib.font_manager:findfont: Font family 'ChineseFont' not found.\n",
            "WARNING:matplotlib.font_manager:findfont: Font family 'ChineseFont' not found.\n",
            "WARNING:matplotlib.font_manager:findfont: Font family 'ChineseFont' not found.\n",
            "WARNING:matplotlib.font_manager:findfont: Font family 'ChineseFont' not found.\n",
            "WARNING:matplotlib.font_manager:findfont: Font family 'ChineseFont' not found.\n",
            "WARNING:matplotlib.font_manager:findfont: Font family 'ChineseFont' not found.\n",
            "WARNING:matplotlib.font_manager:findfont: Font family 'ChineseFont' not found.\n",
            "WARNING:matplotlib.font_manager:findfont: Font family 'ChineseFont' not found.\n",
            "WARNING:matplotlib.font_manager:findfont: Font family 'ChineseFont' not found.\n",
            "WARNING:matplotlib.font_manager:findfont: Font family 'ChineseFont' not found.\n",
            "WARNING:matplotlib.font_manager:findfont: Font family 'ChineseFont' not found.\n",
            "WARNING:matplotlib.font_manager:findfont: Font family 'ChineseFont' not found.\n",
            "WARNING:matplotlib.font_manager:findfont: Font family 'ChineseFont' not found.\n",
            "WARNING:matplotlib.font_manager:findfont: Font family 'ChineseFont' not found.\n",
            "WARNING:matplotlib.font_manager:findfont: Font family 'ChineseFont' not found.\n",
            "WARNING:matplotlib.font_manager:findfont: Font family 'ChineseFont' not found.\n",
            "WARNING:matplotlib.font_manager:findfont: Font family 'ChineseFont' not found.\n",
            "WARNING:matplotlib.font_manager:findfont: Font family 'ChineseFont' not found.\n",
            "WARNING:matplotlib.font_manager:findfont: Font family 'ChineseFont' not found.\n",
            "WARNING:matplotlib.font_manager:findfont: Font family 'ChineseFont' not found.\n",
            "WARNING:matplotlib.font_manager:findfont: Font family 'ChineseFont' not found.\n",
            "WARNING:matplotlib.font_manager:findfont: Font family 'ChineseFont' not found.\n",
            "WARNING:matplotlib.font_manager:findfont: Font family 'ChineseFont' not found.\n",
            "WARNING:matplotlib.font_manager:findfont: Font family 'ChineseFont' not found.\n",
            "WARNING:matplotlib.font_manager:findfont: Font family 'ChineseFont' not found.\n",
            "WARNING:matplotlib.font_manager:findfont: Font family 'ChineseFont' not found.\n"
          ]
        },
        {
          "output_type": "display_data",
          "data": {
            "text/plain": [
              "<Figure size 640x480 with 1 Axes>"
            ],
            "image/png": "[encoded data removed]"
          },
          "metadata": {}
        }
      ]
    },
    {
      "cell_type": "code",
      "source": [
        "!nvidia-smi"
      ],
      "metadata": {
        "id": "XwC5P5ZyC03N"
      },
      "execution_count": null,
      "outputs": []
    }
  ]
}